{
 "cells": [
  {
   "cell_type": "code",
   "execution_count": 1,
   "metadata": {},
   "outputs": [],
   "source": [
    "#importing the necessary libraries\n",
    "import pandas as pd\n",
    "import numpy as np\n",
    "import matplotlib.pyplot as plt\n",
    "\n",
    "from sklearn.model_selection import train_test_split\n",
    "from sklearn.ensemble import RandomForestClassifier\n",
    "\n",
    "from sklearn.metrics import accuracy_score\n",
    "from sklearn.model_selection import RandomizedSearchCV, GridSearchCV\n",
    "\n",
    "import pickle\n",
    "\n",
    "%matplotlib inline"
   ]
  },
  {
   "cell_type": "code",
   "execution_count": 2,
   "metadata": {},
   "outputs": [],
   "source": [
    "df_home = pd.read_csv('home_energy.csv', parse_dates= True, squeeze= True)\n",
    "df_home['Time'] = pd.to_datetime(df_home['Time'])"
   ]
  },
  {
   "cell_type": "code",
   "execution_count": 3,
   "metadata": {},
   "outputs": [
    {
     "data": {
      "text/plain": [
       "Equipment    0\n",
       "Time         0\n",
       "Condition    0\n",
       "dtype: int64"
      ]
     },
     "execution_count": 3,
     "metadata": {},
     "output_type": "execute_result"
    }
   ],
   "source": [
    "df_home = df_home[['Equipment', 'Time', 'Condition']]\n",
    "df_home.isna().sum()"
   ]
  },
  {
   "cell_type": "code",
   "execution_count": 4,
   "metadata": {},
   "outputs": [
    {
     "data": {
      "text/html": [
       "<div>\n",
       "<style scoped>\n",
       "    .dataframe tbody tr th:only-of-type {\n",
       "        vertical-align: middle;\n",
       "    }\n",
       "\n",
       "    .dataframe tbody tr th {\n",
       "        vertical-align: top;\n",
       "    }\n",
       "\n",
       "    .dataframe thead th {\n",
       "        text-align: right;\n",
       "    }\n",
       "</style>\n",
       "<table border=\"1\" class=\"dataframe\">\n",
       "  <thead>\n",
       "    <tr style=\"text-align: right;\">\n",
       "      <th></th>\n",
       "      <th>Equipment</th>\n",
       "      <th>Time</th>\n",
       "      <th>Condition</th>\n",
       "    </tr>\n",
       "  </thead>\n",
       "  <tbody>\n",
       "    <tr>\n",
       "      <th>0</th>\n",
       "      <td>Device 1</td>\n",
       "      <td>2020-03-07 02:03:50</td>\n",
       "      <td>ON</td>\n",
       "    </tr>\n",
       "    <tr>\n",
       "      <th>1</th>\n",
       "      <td>Device 1</td>\n",
       "      <td>2020-03-07 05:44:10</td>\n",
       "      <td>ON</td>\n",
       "    </tr>\n",
       "    <tr>\n",
       "      <th>2</th>\n",
       "      <td>Device 1</td>\n",
       "      <td>2020-03-07 07:56:38</td>\n",
       "      <td>ON</td>\n",
       "    </tr>\n",
       "    <tr>\n",
       "      <th>3</th>\n",
       "      <td>Device 1</td>\n",
       "      <td>2020-03-07 08:55:41</td>\n",
       "      <td>OFF</td>\n",
       "    </tr>\n",
       "    <tr>\n",
       "      <th>4</th>\n",
       "      <td>Device 1</td>\n",
       "      <td>2020-03-07 15:15:50</td>\n",
       "      <td>ON</td>\n",
       "    </tr>\n",
       "  </tbody>\n",
       "</table>\n",
       "</div>"
      ],
      "text/plain": [
       "  Equipment                Time Condition\n",
       "0  Device 1 2020-03-07 02:03:50        ON\n",
       "1  Device 1 2020-03-07 05:44:10        ON\n",
       "2  Device 1 2020-03-07 07:56:38        ON\n",
       "3  Device 1 2020-03-07 08:55:41       OFF\n",
       "4  Device 1 2020-03-07 15:15:50        ON"
      ]
     },
     "execution_count": 4,
     "metadata": {},
     "output_type": "execute_result"
    }
   ],
   "source": [
    "df_home.head()"
   ]
  },
  {
   "cell_type": "code",
   "execution_count": 5,
   "metadata": {},
   "outputs": [
    {
     "data": {
      "text/plain": [
       "Time\n",
       "2020-03-07 02:03:50     ON\n",
       "2020-03-07 05:44:10     ON\n",
       "2020-03-07 07:56:38     ON\n",
       "2020-03-07 08:55:41    OFF\n",
       "2020-03-07 15:15:50     ON\n",
       "dtype: object"
      ]
     },
     "execution_count": 5,
     "metadata": {},
     "output_type": "execute_result"
    }
   ],
   "source": [
    "#make a series of the key data points and then index it \n",
    "time_serie = pd.Series(df_home['Condition'].values, index= df_home['Time'])\n",
    "df_home['Hour'] = time_serie.index.hour\n",
    "df_home['Minute'] = time_serie.index.minute\n",
    "df_home['Seconds'] = time_serie.index.second\n",
    "\n",
    "time_serie.head()"
   ]
  },
  {
   "cell_type": "code",
   "execution_count": 6,
   "metadata": {},
   "outputs": [
    {
     "data": {
      "text/html": [
       "<div>\n",
       "<style scoped>\n",
       "    .dataframe tbody tr th:only-of-type {\n",
       "        vertical-align: middle;\n",
       "    }\n",
       "\n",
       "    .dataframe tbody tr th {\n",
       "        vertical-align: top;\n",
       "    }\n",
       "\n",
       "    .dataframe thead th {\n",
       "        text-align: right;\n",
       "    }\n",
       "</style>\n",
       "<table border=\"1\" class=\"dataframe\">\n",
       "  <thead>\n",
       "    <tr style=\"text-align: right;\">\n",
       "      <th></th>\n",
       "      <th>Equipment</th>\n",
       "      <th>Time</th>\n",
       "      <th>Condition</th>\n",
       "      <th>Hour</th>\n",
       "      <th>Minute</th>\n",
       "      <th>Seconds</th>\n",
       "    </tr>\n",
       "  </thead>\n",
       "  <tbody>\n",
       "    <tr>\n",
       "      <th>0</th>\n",
       "      <td>Device 1</td>\n",
       "      <td>2020-03-07 02:03:50</td>\n",
       "      <td>ON</td>\n",
       "      <td>2</td>\n",
       "      <td>3</td>\n",
       "      <td>50</td>\n",
       "    </tr>\n",
       "    <tr>\n",
       "      <th>1</th>\n",
       "      <td>Device 1</td>\n",
       "      <td>2020-03-07 05:44:10</td>\n",
       "      <td>ON</td>\n",
       "      <td>5</td>\n",
       "      <td>44</td>\n",
       "      <td>10</td>\n",
       "    </tr>\n",
       "    <tr>\n",
       "      <th>2</th>\n",
       "      <td>Device 1</td>\n",
       "      <td>2020-03-07 07:56:38</td>\n",
       "      <td>ON</td>\n",
       "      <td>7</td>\n",
       "      <td>56</td>\n",
       "      <td>38</td>\n",
       "    </tr>\n",
       "    <tr>\n",
       "      <th>3</th>\n",
       "      <td>Device 1</td>\n",
       "      <td>2020-03-07 08:55:41</td>\n",
       "      <td>OFF</td>\n",
       "      <td>8</td>\n",
       "      <td>55</td>\n",
       "      <td>41</td>\n",
       "    </tr>\n",
       "    <tr>\n",
       "      <th>4</th>\n",
       "      <td>Device 1</td>\n",
       "      <td>2020-03-07 15:15:50</td>\n",
       "      <td>ON</td>\n",
       "      <td>15</td>\n",
       "      <td>15</td>\n",
       "      <td>50</td>\n",
       "    </tr>\n",
       "  </tbody>\n",
       "</table>\n",
       "</div>"
      ],
      "text/plain": [
       "  Equipment                Time Condition  Hour  Minute  Seconds\n",
       "0  Device 1 2020-03-07 02:03:50        ON     2       3       50\n",
       "1  Device 1 2020-03-07 05:44:10        ON     5      44       10\n",
       "2  Device 1 2020-03-07 07:56:38        ON     7      56       38\n",
       "3  Device 1 2020-03-07 08:55:41       OFF     8      55       41\n",
       "4  Device 1 2020-03-07 15:15:50        ON    15      15       50"
      ]
     },
     "execution_count": 6,
     "metadata": {},
     "output_type": "execute_result"
    }
   ],
   "source": [
    "df_home.head()"
   ]
  },
  {
   "cell_type": "code",
   "execution_count": 7,
   "metadata": {},
   "outputs": [],
   "source": [
    "df_home = pd.get_dummies(df_home, columns=['Equipment'], prefix=['Equipment'])"
   ]
  },
  {
   "cell_type": "code",
   "execution_count": 8,
   "metadata": {},
   "outputs": [
    {
     "data": {
      "text/html": [
       "<div>\n",
       "<style scoped>\n",
       "    .dataframe tbody tr th:only-of-type {\n",
       "        vertical-align: middle;\n",
       "    }\n",
       "\n",
       "    .dataframe tbody tr th {\n",
       "        vertical-align: top;\n",
       "    }\n",
       "\n",
       "    .dataframe thead th {\n",
       "        text-align: right;\n",
       "    }\n",
       "</style>\n",
       "<table border=\"1\" class=\"dataframe\">\n",
       "  <thead>\n",
       "    <tr style=\"text-align: right;\">\n",
       "      <th></th>\n",
       "      <th>Time</th>\n",
       "      <th>Condition</th>\n",
       "      <th>Hour</th>\n",
       "      <th>Minute</th>\n",
       "      <th>Seconds</th>\n",
       "      <th>Equipment_Device 1</th>\n",
       "      <th>Equipment_Device 2</th>\n",
       "      <th>Equipment_Device 3</th>\n",
       "      <th>Equipment_Device 4</th>\n",
       "    </tr>\n",
       "  </thead>\n",
       "  <tbody>\n",
       "    <tr>\n",
       "      <th>0</th>\n",
       "      <td>2020-03-07 02:03:50</td>\n",
       "      <td>ON</td>\n",
       "      <td>2</td>\n",
       "      <td>3</td>\n",
       "      <td>50</td>\n",
       "      <td>1</td>\n",
       "      <td>0</td>\n",
       "      <td>0</td>\n",
       "      <td>0</td>\n",
       "    </tr>\n",
       "    <tr>\n",
       "      <th>1</th>\n",
       "      <td>2020-03-07 05:44:10</td>\n",
       "      <td>ON</td>\n",
       "      <td>5</td>\n",
       "      <td>44</td>\n",
       "      <td>10</td>\n",
       "      <td>1</td>\n",
       "      <td>0</td>\n",
       "      <td>0</td>\n",
       "      <td>0</td>\n",
       "    </tr>\n",
       "    <tr>\n",
       "      <th>2</th>\n",
       "      <td>2020-03-07 07:56:38</td>\n",
       "      <td>ON</td>\n",
       "      <td>7</td>\n",
       "      <td>56</td>\n",
       "      <td>38</td>\n",
       "      <td>1</td>\n",
       "      <td>0</td>\n",
       "      <td>0</td>\n",
       "      <td>0</td>\n",
       "    </tr>\n",
       "    <tr>\n",
       "      <th>3</th>\n",
       "      <td>2020-03-07 08:55:41</td>\n",
       "      <td>OFF</td>\n",
       "      <td>8</td>\n",
       "      <td>55</td>\n",
       "      <td>41</td>\n",
       "      <td>1</td>\n",
       "      <td>0</td>\n",
       "      <td>0</td>\n",
       "      <td>0</td>\n",
       "    </tr>\n",
       "    <tr>\n",
       "      <th>4</th>\n",
       "      <td>2020-03-07 15:15:50</td>\n",
       "      <td>ON</td>\n",
       "      <td>15</td>\n",
       "      <td>15</td>\n",
       "      <td>50</td>\n",
       "      <td>1</td>\n",
       "      <td>0</td>\n",
       "      <td>0</td>\n",
       "      <td>0</td>\n",
       "    </tr>\n",
       "  </tbody>\n",
       "</table>\n",
       "</div>"
      ],
      "text/plain": [
       "                 Time Condition  Hour  Minute  Seconds  Equipment_Device 1  \\\n",
       "0 2020-03-07 02:03:50        ON     2       3       50                   1   \n",
       "1 2020-03-07 05:44:10        ON     5      44       10                   1   \n",
       "2 2020-03-07 07:56:38        ON     7      56       38                   1   \n",
       "3 2020-03-07 08:55:41       OFF     8      55       41                   1   \n",
       "4 2020-03-07 15:15:50        ON    15      15       50                   1   \n",
       "\n",
       "   Equipment_Device 2  Equipment_Device 3  Equipment_Device 4  \n",
       "0                   0                   0                   0  \n",
       "1                   0                   0                   0  \n",
       "2                   0                   0                   0  \n",
       "3                   0                   0                   0  \n",
       "4                   0                   0                   0  "
      ]
     },
     "execution_count": 8,
     "metadata": {},
     "output_type": "execute_result"
    }
   ],
   "source": [
    "df_home.head()"
   ]
  },
  {
   "cell_type": "code",
   "execution_count": 9,
   "metadata": {},
   "outputs": [],
   "source": [
    "y = df_home['Condition'].replace(['ON', 'OFF'], [0,1])\n",
    "x = df_home.drop(axis= 1, columns= ['Condition', 'Time'])"
   ]
  },
  {
   "cell_type": "code",
   "execution_count": 10,
   "metadata": {},
   "outputs": [
    {
     "data": {
      "text/html": [
       "<div>\n",
       "<style scoped>\n",
       "    .dataframe tbody tr th:only-of-type {\n",
       "        vertical-align: middle;\n",
       "    }\n",
       "\n",
       "    .dataframe tbody tr th {\n",
       "        vertical-align: top;\n",
       "    }\n",
       "\n",
       "    .dataframe thead th {\n",
       "        text-align: right;\n",
       "    }\n",
       "</style>\n",
       "<table border=\"1\" class=\"dataframe\">\n",
       "  <thead>\n",
       "    <tr style=\"text-align: right;\">\n",
       "      <th></th>\n",
       "      <th>Hour</th>\n",
       "      <th>Minute</th>\n",
       "      <th>Seconds</th>\n",
       "      <th>Equipment_Device 1</th>\n",
       "      <th>Equipment_Device 2</th>\n",
       "      <th>Equipment_Device 3</th>\n",
       "      <th>Equipment_Device 4</th>\n",
       "    </tr>\n",
       "  </thead>\n",
       "  <tbody>\n",
       "    <tr>\n",
       "      <th>0</th>\n",
       "      <td>2</td>\n",
       "      <td>3</td>\n",
       "      <td>50</td>\n",
       "      <td>1</td>\n",
       "      <td>0</td>\n",
       "      <td>0</td>\n",
       "      <td>0</td>\n",
       "    </tr>\n",
       "    <tr>\n",
       "      <th>1</th>\n",
       "      <td>5</td>\n",
       "      <td>44</td>\n",
       "      <td>10</td>\n",
       "      <td>1</td>\n",
       "      <td>0</td>\n",
       "      <td>0</td>\n",
       "      <td>0</td>\n",
       "    </tr>\n",
       "    <tr>\n",
       "      <th>2</th>\n",
       "      <td>7</td>\n",
       "      <td>56</td>\n",
       "      <td>38</td>\n",
       "      <td>1</td>\n",
       "      <td>0</td>\n",
       "      <td>0</td>\n",
       "      <td>0</td>\n",
       "    </tr>\n",
       "    <tr>\n",
       "      <th>3</th>\n",
       "      <td>8</td>\n",
       "      <td>55</td>\n",
       "      <td>41</td>\n",
       "      <td>1</td>\n",
       "      <td>0</td>\n",
       "      <td>0</td>\n",
       "      <td>0</td>\n",
       "    </tr>\n",
       "    <tr>\n",
       "      <th>4</th>\n",
       "      <td>15</td>\n",
       "      <td>15</td>\n",
       "      <td>50</td>\n",
       "      <td>1</td>\n",
       "      <td>0</td>\n",
       "      <td>0</td>\n",
       "      <td>0</td>\n",
       "    </tr>\n",
       "  </tbody>\n",
       "</table>\n",
       "</div>"
      ],
      "text/plain": [
       "   Hour  Minute  Seconds  Equipment_Device 1  Equipment_Device 2  \\\n",
       "0     2       3       50                   1                   0   \n",
       "1     5      44       10                   1                   0   \n",
       "2     7      56       38                   1                   0   \n",
       "3     8      55       41                   1                   0   \n",
       "4    15      15       50                   1                   0   \n",
       "\n",
       "   Equipment_Device 3  Equipment_Device 4  \n",
       "0                   0                   0  \n",
       "1                   0                   0  \n",
       "2                   0                   0  \n",
       "3                   0                   0  \n",
       "4                   0                   0  "
      ]
     },
     "execution_count": 10,
     "metadata": {},
     "output_type": "execute_result"
    }
   ],
   "source": [
    "x.head()"
   ]
  },
  {
   "cell_type": "code",
   "execution_count": 11,
   "metadata": {},
   "outputs": [
    {
     "data": {
      "text/plain": [
       "0    275\n",
       "1    239\n",
       "Name: Condition, dtype: int64"
      ]
     },
     "execution_count": 11,
     "metadata": {},
     "output_type": "execute_result"
    }
   ],
   "source": [
    "y.value_counts()"
   ]
  },
  {
   "cell_type": "code",
   "execution_count": 12,
   "metadata": {},
   "outputs": [],
   "source": [
    "x_train,x_test,y_train,y_test=train_test_split(x,y,random_state=7,test_size=0.2)\n",
    "classifier = RandomForestClassifier(random_state=42)"
   ]
  },
  {
   "cell_type": "code",
   "execution_count": 14,
   "metadata": {},
   "outputs": [
    {
     "name": "stdout",
     "output_type": "stream",
     "text": [
      "The accuracy score is 0.6796116504854369\n"
     ]
    }
   ],
   "source": [
    "classifier.fit(x_train, y_train)\n",
    "y_preds = classifier.predict(x_test)\n",
    "\n",
    "print('The accuracy score is', accuracy_score(y_test, y_preds))"
   ]
  },
  {
   "cell_type": "code",
   "execution_count": 15,
   "metadata": {
    "scrolled": true
   },
   "outputs": [
    {
     "name": "stdout",
     "output_type": "stream",
     "text": [
      "<bound method BaseEstimator.get_params of RandomForestClassifier(bootstrap=True, ccp_alpha=0.0, class_weight=None,\n",
      "                       criterion='gini', max_depth=None, max_features='auto',\n",
      "                       max_leaf_nodes=None, max_samples=None,\n",
      "                       min_impurity_decrease=0.0, min_impurity_split=None,\n",
      "                       min_samples_leaf=1, min_samples_split=2,\n",
      "                       min_weight_fraction_leaf=0.0, n_estimators=100,\n",
      "                       n_jobs=None, oob_score=False, random_state=42, verbose=0,\n",
      "                       warm_start=False)>\n"
     ]
    }
   ],
   "source": [
    "print(classifier.get_params)"
   ]
  },
  {
   "cell_type": "code",
   "execution_count": 13,
   "metadata": {},
   "outputs": [
    {
     "name": "stdout",
     "output_type": "stream",
     "text": [
      "Fitting 3 folds for each of 204687 candidates, totalling 614061 fits\n"
     ]
    },
    {
     "name": "stderr",
     "output_type": "stream",
     "text": [
      "[Parallel(n_jobs=-1)]: Using backend LokyBackend with 8 concurrent workers.\n",
      "[Parallel(n_jobs=-1)]: Done  25 tasks      | elapsed:    1.4s\n",
      "[Parallel(n_jobs=-1)]: Done 244 tasks      | elapsed:    5.4s\n",
      "[Parallel(n_jobs=-1)]: Done 650 tasks      | elapsed:   13.0s\n",
      "[Parallel(n_jobs=-1)]: Done 1216 tasks      | elapsed:   22.5s\n",
      "[Parallel(n_jobs=-1)]: Done 1946 tasks      | elapsed:   39.3s\n",
      "[Parallel(n_jobs=-1)]: Done 2836 tasks      | elapsed:   54.8s\n",
      "[Parallel(n_jobs=-1)]: Done 3890 tasks      | elapsed:  1.2min\n",
      "[Parallel(n_jobs=-1)]: Done 5104 tasks      | elapsed:  1.6min\n",
      "[Parallel(n_jobs=-1)]: Done 6482 tasks      | elapsed:  2.1min\n",
      "[Parallel(n_jobs=-1)]: Done 8020 tasks      | elapsed:  2.5min\n",
      "[Parallel(n_jobs=-1)]: Done 9722 tasks      | elapsed:  3.1min\n",
      "[Parallel(n_jobs=-1)]: Done 11584 tasks      | elapsed:  3.7min\n",
      "[Parallel(n_jobs=-1)]: Done 13610 tasks      | elapsed:  4.3min\n",
      "[Parallel(n_jobs=-1)]: Done 15796 tasks      | elapsed:  5.0min\n",
      "[Parallel(n_jobs=-1)]: Done 18146 tasks      | elapsed:  5.7min\n",
      "[Parallel(n_jobs=-1)]: Done 20656 tasks      | elapsed:  6.6min\n",
      "[Parallel(n_jobs=-1)]: Done 23330 tasks      | elapsed:  7.5min\n",
      "[Parallel(n_jobs=-1)]: Done 26164 tasks      | elapsed:  8.4min\n",
      "[Parallel(n_jobs=-1)]: Done 29162 tasks      | elapsed:  9.3min\n",
      "[Parallel(n_jobs=-1)]: Done 32320 tasks      | elapsed: 10.4min\n",
      "[Parallel(n_jobs=-1)]: Done 36341 tasks      | elapsed: 11.7min\n",
      "[Parallel(n_jobs=-1)]: Done 42952 tasks      | elapsed: 13.8min\n",
      "[Parallel(n_jobs=-1)]: Done 50244 tasks      | elapsed: 16.1min\n",
      "[Parallel(n_jobs=-1)]: Done 57856 tasks      | elapsed: 18.5min\n",
      "[Parallel(n_jobs=-1)]: Done 65796 tasks      | elapsed: 21.1min\n",
      "[Parallel(n_jobs=-1)]: Done 74056 tasks      | elapsed: 23.8min\n",
      "[Parallel(n_jobs=-1)]: Done 82644 tasks      | elapsed: 26.6min\n",
      "[Parallel(n_jobs=-1)]: Done 91552 tasks      | elapsed: 29.5min\n",
      "[Parallel(n_jobs=-1)]: Done 100788 tasks      | elapsed: 32.5min\n",
      "[Parallel(n_jobs=-1)]: Done 110344 tasks      | elapsed: 35.6min\n",
      "[Parallel(n_jobs=-1)]: Done 120228 tasks      | elapsed: 38.7min\n",
      "[Parallel(n_jobs=-1)]: Done 130432 tasks      | elapsed: 42.1min\n",
      "[Parallel(n_jobs=-1)]: Done 140964 tasks      | elapsed: 45.5min\n",
      "[Parallel(n_jobs=-1)]: Done 151816 tasks      | elapsed: 48.9min\n",
      "[Parallel(n_jobs=-1)]: Done 162996 tasks      | elapsed: 52.6min\n",
      "[Parallel(n_jobs=-1)]: Done 174496 tasks      | elapsed: 56.3min\n",
      "[Parallel(n_jobs=-1)]: Done 186324 tasks      | elapsed: 60.1min\n",
      "[Parallel(n_jobs=-1)]: Done 198472 tasks      | elapsed: 64.0min\n",
      "[Parallel(n_jobs=-1)]: Done 210948 tasks      | elapsed: 68.0min\n",
      "[Parallel(n_jobs=-1)]: Done 223744 tasks      | elapsed: 72.2min\n",
      "[Parallel(n_jobs=-1)]: Done 236868 tasks      | elapsed: 76.5min\n",
      "[Parallel(n_jobs=-1)]: Done 250312 tasks      | elapsed: 80.9min\n",
      "[Parallel(n_jobs=-1)]: Done 264084 tasks      | elapsed: 85.4min\n",
      "[Parallel(n_jobs=-1)]: Done 278176 tasks      | elapsed: 89.9min\n",
      "[Parallel(n_jobs=-1)]: Done 292596 tasks      | elapsed: 94.6min\n",
      "[Parallel(n_jobs=-1)]: Done 307336 tasks      | elapsed: 99.4min\n",
      "[Parallel(n_jobs=-1)]: Done 322404 tasks      | elapsed: 104.3min\n",
      "[Parallel(n_jobs=-1)]: Done 336920 tasks      | elapsed: 109.1min\n",
      "[Parallel(n_jobs=-1)]: Done 352636 tasks      | elapsed: 114.2min\n",
      "[Parallel(n_jobs=-1)]: Done 368672 tasks      | elapsed: 119.6min\n",
      "[Parallel(n_jobs=-1)]: Done 385036 tasks      | elapsed: 124.9min\n",
      "[Parallel(n_jobs=-1)]: Done 401720 tasks      | elapsed: 130.3min\n",
      "[Parallel(n_jobs=-1)]: Done 418732 tasks      | elapsed: 135.9min\n",
      "[Parallel(n_jobs=-1)]: Done 436064 tasks      | elapsed: 141.6min\n",
      "[Parallel(n_jobs=-1)]: Done 453724 tasks      | elapsed: 147.3min\n",
      "[Parallel(n_jobs=-1)]: Done 471704 tasks      | elapsed: 153.2min\n",
      "[Parallel(n_jobs=-1)]: Done 490012 tasks      | elapsed: 159.2min\n",
      "[Parallel(n_jobs=-1)]: Done 508640 tasks      | elapsed: 165.2min\n",
      "[Parallel(n_jobs=-1)]: Done 527596 tasks      | elapsed: 171.4min\n",
      "[Parallel(n_jobs=-1)]: Done 546872 tasks      | elapsed: 177.7min\n",
      "[Parallel(n_jobs=-1)]: Done 566476 tasks      | elapsed: 184.0min\n",
      "[Parallel(n_jobs=-1)]: Done 586400 tasks      | elapsed: 190.4min\n",
      "[Parallel(n_jobs=-1)]: Done 606652 tasks      | elapsed: 196.9min\n",
      "[Parallel(n_jobs=-1)]: Done 614046 out of 614061 | elapsed: 199.3min remaining:    0.3s\n",
      "[Parallel(n_jobs=-1)]: Done 614061 out of 614061 | elapsed: 199.3min finished\n"
     ]
    },
    {
     "data": {
      "text/plain": [
       "GridSearchCV(cv=3, error_score=nan,\n",
       "             estimator=RandomForestClassifier(bootstrap=True, ccp_alpha=0.0,\n",
       "                                              class_weight=None,\n",
       "                                              criterion='gini', max_depth=None,\n",
       "                                              max_features='auto',\n",
       "                                              max_leaf_nodes=None,\n",
       "                                              max_samples=None,\n",
       "                                              min_impurity_decrease=0.0,\n",
       "                                              min_impurity_split=None,\n",
       "                                              min_samples_leaf=1,\n",
       "                                              min_samples_split=2,\n",
       "                                              min_weight_fraction_leaf=0.0,\n",
       "                                              n_estimators=100, n_jobs=None,...\n",
       "             param_grid={'max_depth': array([ 1,  2,  3,  4,  5,  6,  7,  8,  9, 10, 11, 12, 13, 14, 15, 16, 17,\n",
       "       18, 19]),\n",
       "                         'max_features': ['auto', 'sqrt', 'log2', 1, 2, 0.2, 6],\n",
       "                         'min_samples_leaf': array([1, 2, 3, 4, 5, 6, 7, 8, 9]),\n",
       "                         'min_samples_split': array([ 1,  2,  3,  4,  5,  6,  7,  8,  9, 10, 11, 12, 13, 14, 15, 16, 17,\n",
       "       18, 19]),\n",
       "                         'n_estimators': array([10, 20, 30, 40, 50, 60, 70, 80, 90])},\n",
       "             pre_dispatch='2*n_jobs', refit=True, return_train_score=False,\n",
       "             scoring=None, verbose=2)"
      ]
     },
     "execution_count": 13,
     "metadata": {},
     "output_type": "execute_result"
    }
   ],
   "source": [
    "# Number of trees in random forest\n",
    "n_estimators = np.arange(10, 100, 10)\n",
    "# Number of features to consider at every split\n",
    "max_features = ['auto', 'sqrt', \"log2\", 1,2,0.2,6]\n",
    "# Maximum number of levels in tree\n",
    "max_depth = np.arange(1, 20)\n",
    "# Minimum number of samples required to split a node\n",
    "min_samples_split = np.arange(1, 20)\n",
    "# Minimum number of samples required at each leaf node\n",
    "min_samples_leaf = np.arange(1, 10)\n",
    "# Method of selecting samples for training each tree\n",
    "# Create the random grid\n",
    "random_grid = {'n_estimators': n_estimators,\n",
    "               'max_features': max_features,\n",
    "               'max_depth': max_depth,\n",
    "               'min_samples_split': min_samples_split,\n",
    "               'min_samples_leaf': min_samples_leaf}\n",
    "\n",
    "rf_random = GridSearchCV(estimator = classifier, param_grid = random_grid, cv = 3, verbose=2, n_jobs = -1)\n",
    "rf_random.fit(x_train, y_train)"
   ]
  },
  {
   "cell_type": "code",
   "execution_count": 16,
   "metadata": {},
   "outputs": [
    {
     "data": {
      "text/plain": [
       "{'max_depth': 10,\n",
       " 'max_features': 6,\n",
       " 'min_samples_leaf': 2,\n",
       " 'min_samples_split': 6,\n",
       " 'n_estimators': 30}"
      ]
     },
     "execution_count": 16,
     "metadata": {},
     "output_type": "execute_result"
    }
   ],
   "source": [
    "#analysing the random forest algorithm\n",
    "rf_random.best_params_"
   ]
  },
  {
   "cell_type": "code",
   "execution_count": 17,
   "metadata": {},
   "outputs": [
    {
     "name": "stdout",
     "output_type": "stream",
     "text": [
      "The accuracy score is 0.7378640776699029\n"
     ]
    }
   ],
   "source": [
    "y_preds_random = rf_random.predict(x_test)\n",
    "\n",
    "print('The accuracy score is', accuracy_score(y_test, y_preds_random))"
   ]
  },
  {
   "cell_type": "code",
   "execution_count": 18,
   "metadata": {},
   "outputs": [],
   "source": [
    "#saving the model in a pickle file\n",
    "file_name = \"random_forest_model.pkl\"\n",
    "with open(file_name, 'wb') as file:\n",
    "    pickle.dump(rf_random.best_estimator_, file)"
   ]
  },
  {
   "cell_type": "code",
   "execution_count": null,
   "metadata": {},
   "outputs": [],
   "source": []
  }
 ],
 "metadata": {
  "kernelspec": {
   "display_name": "Python 3",
   "language": "python",
   "name": "python3"
  },
  "language_info": {
   "codemirror_mode": {
    "name": "ipython",
    "version": 3
   },
   "file_extension": ".py",
   "mimetype": "text/x-python",
   "name": "python",
   "nbconvert_exporter": "python",
   "pygments_lexer": "ipython3",
   "version": "3.7.4"
  }
 },
 "nbformat": 4,
 "nbformat_minor": 2
}
